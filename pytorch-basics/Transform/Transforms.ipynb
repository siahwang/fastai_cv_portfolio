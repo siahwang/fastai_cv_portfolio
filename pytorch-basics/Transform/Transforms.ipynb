{
 "cells": [
  {
   "cell_type": "markdown",
   "metadata": {},
   "source": [
    "### Transforms\n",
    "#### Data does not come in its final form for training ML algorithms. We use transforms to manipulate the data and make it suitable for training\n",
    " "
   ]
  },
  {
   "cell_type": "code",
   "execution_count": 7,
   "metadata": {},
   "outputs": [
    {
     "name": "stderr",
     "output_type": "stream",
     "text": [
      "100%|██████████| 26.4M/26.4M [00:13<00:00, 2.00MB/s]\n",
      "100%|██████████| 29.5k/29.5k [00:00<00:00, 30.7kB/s]\n",
      "100%|██████████| 4.42M/4.42M [07:50<00:00, 9.40kB/s]\n",
      "100%|██████████| 5.15k/5.15k [00:00<00:00, 4.66MB/s]\n"
     ]
    }
   ],
   "source": [
    "import os\n",
    "import tempfile\n",
    "import torch\n",
    "from torchvision import datasets\n",
    "from torchvision.transforms import ToTensor, Lambda # transform util \n",
    "\n",
    "base_dir = tempfile.gettempdir()      \n",
    "data_dir = os.path.join(base_dir, \"fashion_mnist\")\n",
    "os.makedirs(data_dir, exist_ok=True)\n",
    "\n",
    "ds = datasets.FashionMNIST(\n",
    "    root=data_dir,\n",
    "    train=True,\n",
    "    download=True,\n",
    "    transform=ToTensor(), # Image (PIL image or NumPy array)--> torch.FloatTensor (32-bit float)\n",
    "    # [0,255] → [0.0,1.0] normalization (pixel values)\n",
    "    # transforms.Compose([transforms.ToTensor(), transforms.Normalize(mean, std)]) if mean / std based normalization is needed\n",
    "    target_transform=Lambda(lambda y: torch.zeros(10, dtype=torch.float).scatter_(0, torch.tensor(y), value=1))\n",
    ")"
   ]
  }
 ],
 "metadata": {
  "kernelspec": {
   "display_name": "Python 3",
   "language": "python",
   "name": "python3"
  },
  "language_info": {
   "codemirror_mode": {
    "name": "ipython",
    "version": 3
   },
   "file_extension": ".py",
   "mimetype": "text/x-python",
   "name": "python",
   "nbconvert_exporter": "python",
   "pygments_lexer": "ipython3",
   "version": "3.12.6"
  }
 },
 "nbformat": 4,
 "nbformat_minor": 2
}
